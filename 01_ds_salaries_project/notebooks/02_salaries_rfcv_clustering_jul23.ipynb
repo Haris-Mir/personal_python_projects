{
 "cells": [
  {
   "cell_type": "markdown",
   "id": "66a3edbb",
   "metadata": {},
   "source": [
    "# AI, ML, Data Salaries Dataset (Hierarchical Clustering and RFECV) Dated July 2023: Notebook-2"
   ]
  },
  {
   "cell_type": "markdown",
   "id": "9c2920d2",
   "metadata": {},
   "source": [
    "## Table of Contents\n",
    "\n",
    "1. [Introduction](#1.-Introduction)\n",
    "\n",
    "    1.1 [Continuing the Problem Statement](#1.1-Continuing-the-Problem-Statement)\n",
    "    \n",
    "    1.2 [Relevant Success Criteria](#1.2-Relevant-Success-Criteria)"
   ]
  },
  {
   "cell_type": "markdown",
   "id": "6bc85a8c",
   "metadata": {},
   "source": [
    "## 1. Introduction\n",
    "\n",
    "This notebook is the continuation of the implementation of CRISP-DM methodology on the AL, ML, Data salaries dataset from Kaggle. com.\n",
    "\n",
    "The relevant links are as follows:\n",
    "\n",
    "* For Exploratory Data Analysis (Notebook-1) on the data set: [click here](https://www.kaggle.com/code/harismirds/eda-on-ai-ml-data-salaries-by-haris)\n",
    "* For Medium.com article of EDA based on Notebook-1: [click here](https://medium.com/@harrismir90/eda-on-ai-ml-data-salaries-dataset-from-kaggle-2020-2023-539d475d35ed)\n",
    "* For README file of the whole project: [click here](https://github.com/Haris-Mir/personal_python_projects/blob/main/01_ds_salaries_project/README.md)\n",
    "\n",
    "## 1.1 Continuing the Problem Statement\n",
    "\n",
    "We can extract many valuable insights from this dataset. As this datset provides three years salary data (dependent variable) of three major fields (AI, ML, and Data), we can address some of the following questions from the thorough analysis of the dataset:\n",
    "\n",
    "#### Hierarchical clustering and RFECV\n",
    "\n",
    "* Can we group similar types of jobs based on their salaries and other features using clustering techniques?\n",
    "* What are the most important features in predicting salaries in the AI, ML, and Data fields?\n",
    "\n",
    "#### Machine Learning (ML)\n",
    "\n",
    "* Can we predict salaries in the AI, ML, and Data fields based on certain features such as job title, experience level, or company size?\n",
    "* What is the best model or technique for predicting salaries in the AI, ML, and Data fields based on our evaluation criteria?\n",
    "\n",
    "## 1.2 Relevant Success Criteria\n",
    "\n",
    "Based on the problem statement and the use of the CRISP-DM philosophy, the success criteria for the project can be defined as follows:\n",
    "\n",
    "* __Cluster Analysis:__ Successfully group similar types of jobs based on their salaries and other features using clustering techniques. The success criterion could be creating meaningful clusters that accurately represent different job groups based on salary levels and other relevant characteristics.\n",
    "\n",
    "* __Identification of Key Factors:__ Identify the most important features that contribute to salary prediction in the AI, ML, and Data fields. This can be determined by analyzing the feature importance or coefficients of the predictive model. The success criterion could be identifying the top three factors that have the highest impact on salaries.\n",
    "\n",
    "* __Accuracy of Salary Prediction:__ Develop a predictive model that accurately predicts salaries in the AI, ML, and Data fields based on relevant features such as job title, experience level, and company size. The success criterion could be achieving a certain level of accuracy, such as an overall prediction accuracy of 80% or higher.\n",
    "\n",
    "Meeting these success criteria would indicate a comprehensive analysis of the dataset, providing valuable insights into salary trends, predictive modeling, and the factors influencing salaries in the AI, ML, and Data fields."
   ]
  },
  {
   "cell_type": "code",
   "execution_count": null,
   "id": "ec628e22",
   "metadata": {},
   "outputs": [],
   "source": []
  },
  {
   "cell_type": "code",
   "execution_count": null,
   "id": "b0d58113",
   "metadata": {},
   "outputs": [],
   "source": []
  },
  {
   "cell_type": "code",
   "execution_count": null,
   "id": "df69962e",
   "metadata": {},
   "outputs": [],
   "source": []
  },
  {
   "cell_type": "code",
   "execution_count": null,
   "id": "2f9275d4",
   "metadata": {},
   "outputs": [],
   "source": []
  },
  {
   "cell_type": "code",
   "execution_count": null,
   "id": "3043550d",
   "metadata": {},
   "outputs": [],
   "source": []
  },
  {
   "cell_type": "code",
   "execution_count": null,
   "id": "f1ffa22b",
   "metadata": {},
   "outputs": [],
   "source": []
  },
  {
   "cell_type": "code",
   "execution_count": null,
   "id": "9dd7b2af",
   "metadata": {},
   "outputs": [],
   "source": []
  },
  {
   "cell_type": "code",
   "execution_count": null,
   "id": "8a054b36",
   "metadata": {},
   "outputs": [],
   "source": []
  },
  {
   "cell_type": "code",
   "execution_count": null,
   "id": "b2062e3a",
   "metadata": {},
   "outputs": [],
   "source": []
  }
 ],
 "metadata": {
  "kernelspec": {
   "display_name": "Python 3 (ipykernel)",
   "language": "python",
   "name": "python3"
  },
  "language_info": {
   "codemirror_mode": {
    "name": "ipython",
    "version": 3
   },
   "file_extension": ".py",
   "mimetype": "text/x-python",
   "name": "python",
   "nbconvert_exporter": "python",
   "pygments_lexer": "ipython3",
   "version": "3.9.13"
  }
 },
 "nbformat": 4,
 "nbformat_minor": 5
}
